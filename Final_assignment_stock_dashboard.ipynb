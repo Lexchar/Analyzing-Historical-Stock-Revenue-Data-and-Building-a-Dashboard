{
 "cells": [
  {
   "cell_type": "markdown",
   "id": "5864b3e5-3fba-4619-aca7-9821849aad1f",
   "metadata": {},
   "source": [
    "# Analyzing Historical Stock/Revenue Data and Building a Dashboard"
   ]
  },
  {
   "cell_type": "markdown",
   "id": "7c933dda-770e-486d-b242-d513cc3b0d29",
   "metadata": {},
   "source": [
    "# Download missing package"
   ]
  },
  {
   "cell_type": "code",
   "execution_count": 6,
   "id": "13c0b16d-1d47-4af1-b089-16d0267f1fbf",
   "metadata": {},
   "outputs": [
    {
     "name": "stdout",
     "output_type": "stream",
     "text": [
      "Requirement already satisfied: yfinance==0.1.67 in c:\\users\\avoyez\\anaconda3\\lib\\site-packages (0.1.67)\n",
      "Requirement already satisfied: numpy>=1.15 in c:\\users\\avoyez\\anaconda3\\lib\\site-packages (from yfinance==0.1.67) (1.20.3)\n",
      "Requirement already satisfied: lxml>=4.5.1 in c:\\users\\avoyez\\anaconda3\\lib\\site-packages (from yfinance==0.1.67) (4.6.3)\n",
      "Requirement already satisfied: pandas>=0.24 in c:\\users\\avoyez\\anaconda3\\lib\\site-packages (from yfinance==0.1.67) (1.3.4)\n",
      "Requirement already satisfied: multitasking>=0.0.7 in c:\\users\\avoyez\\anaconda3\\lib\\site-packages (from yfinance==0.1.67) (0.0.11)\n",
      "Requirement already satisfied: requests>=2.20 in c:\\users\\avoyez\\anaconda3\\lib\\site-packages (from yfinance==0.1.67) (2.26.0)\n",
      "Requirement already satisfied: python-dateutil>=2.7.3 in c:\\users\\avoyez\\anaconda3\\lib\\site-packages (from pandas>=0.24->yfinance==0.1.67) (2.8.2)\n",
      "Requirement already satisfied: pytz>=2017.3 in c:\\users\\avoyez\\anaconda3\\lib\\site-packages (from pandas>=0.24->yfinance==0.1.67) (2021.3)\n",
      "Requirement already satisfied: six>=1.5 in c:\\users\\avoyez\\anaconda3\\lib\\site-packages (from python-dateutil>=2.7.3->pandas>=0.24->yfinance==0.1.67) (1.16.0)\n",
      "Requirement already satisfied: charset-normalizer~=2.0.0 in c:\\users\\avoyez\\anaconda3\\lib\\site-packages (from requests>=2.20->yfinance==0.1.67) (2.0.4)\n",
      "Requirement already satisfied: urllib3<1.27,>=1.21.1 in c:\\users\\avoyez\\anaconda3\\lib\\site-packages (from requests>=2.20->yfinance==0.1.67) (1.26.7)\n",
      "Requirement already satisfied: certifi>=2017.4.17 in c:\\users\\avoyez\\anaconda3\\lib\\site-packages (from requests>=2.20->yfinance==0.1.67) (2021.10.8)\n",
      "Requirement already satisfied: idna<4,>=2.5 in c:\\users\\avoyez\\anaconda3\\lib\\site-packages (from requests>=2.20->yfinance==0.1.67) (3.2)\n"
     ]
    },
    {
     "name": "stderr",
     "output_type": "stream",
     "text": [
      "'mamba' n’est pas reconnu en tant que commande interne\n",
      "ou externe, un programme exécutable ou un fichier de commandes.\n"
     ]
    },
    {
     "name": "stdout",
     "output_type": "stream",
     "text": [
      "Collecting nbformat==4.2.0\n",
      "  Downloading nbformat-4.2.0-py2.py3-none-any.whl (153 kB)\n",
      "Requirement already satisfied: ipython-genutils in c:\\users\\avoyez\\anaconda3\\lib\\site-packages (from nbformat==4.2.0) (0.2.0)\n",
      "Requirement already satisfied: jupyter-core in c:\\users\\avoyez\\anaconda3\\lib\\site-packages (from nbformat==4.2.0) (4.8.1)\n",
      "Requirement already satisfied: jsonschema!=2.5.0,>=2.4 in c:\\users\\avoyez\\anaconda3\\lib\\site-packages (from nbformat==4.2.0) (3.2.0)\n",
      "Requirement already satisfied: traitlets>=4.1 in c:\\users\\avoyez\\anaconda3\\lib\\site-packages (from nbformat==4.2.0) (5.1.0)\n",
      "Requirement already satisfied: pyrsistent>=0.14.0 in c:\\users\\avoyez\\anaconda3\\lib\\site-packages (from jsonschema!=2.5.0,>=2.4->nbformat==4.2.0) (0.18.0)\n",
      "Requirement already satisfied: attrs>=17.4.0 in c:\\users\\avoyez\\anaconda3\\lib\\site-packages (from jsonschema!=2.5.0,>=2.4->nbformat==4.2.0) (21.2.0)\n",
      "Requirement already satisfied: setuptools in c:\\users\\avoyez\\anaconda3\\lib\\site-packages (from jsonschema!=2.5.0,>=2.4->nbformat==4.2.0) (58.0.4)\n",
      "Requirement already satisfied: six>=1.11.0 in c:\\users\\avoyez\\anaconda3\\lib\\site-packages (from jsonschema!=2.5.0,>=2.4->nbformat==4.2.0) (1.16.0)\n",
      "Requirement already satisfied: pywin32>=1.0 in c:\\users\\avoyez\\anaconda3\\lib\\site-packages (from jupyter-core->nbformat==4.2.0) (228)\n",
      "Installing collected packages: nbformat\n",
      "  Attempting uninstall: nbformat\n",
      "    Found existing installation: nbformat 5.1.3\n",
      "    Uninstalling nbformat-5.1.3:\n",
      "      Successfully uninstalled nbformat-5.1.3\n"
     ]
    },
    {
     "name": "stderr",
     "output_type": "stream",
     "text": [
      "ERROR: Could not install packages due to an OSError: [WinError 5] Accès refusé: 'C:\\\\Users\\\\avoyez\\\\AppData\\\\Local\\\\Temp\\\\pip-uninstall-bqxw3t2h\\\\jupyter-trust.exe'\n",
      "Consider using the `--user` option or check the permissions.\n",
      "\n",
      "'mamba' n’est pas reconnu en tant que commande interne\n",
      "ou externe, un programme exécutable ou un fichier de commandes.\n"
     ]
    },
    {
     "name": "stdout",
     "output_type": "stream",
     "text": [
      "Collecting lxml==4.6.4\n",
      "  Downloading lxml-4.6.4-cp39-cp39-win_amd64.whl (3.5 MB)\n",
      "Installing collected packages: lxml\n",
      "  Attempting uninstall: lxml\n",
      "    Found existing installation: lxml 4.6.3\n",
      "    Uninstalling lxml-4.6.3:\n",
      "      Successfully uninstalled lxml-4.6.3\n"
     ]
    },
    {
     "name": "stderr",
     "output_type": "stream",
     "text": [
      "ERROR: Could not install packages due to an OSError: [WinError 5] Accès refusé: 'C:\\\\Users\\\\avoyez\\\\Anaconda3\\\\Lib\\\\site-packages\\\\~xml\\\\etree.cp39-win_amd64.pyd'\n",
      "Consider using the `--user` option or check the permissions.\n",
      "\n"
     ]
    }
   ],
   "source": [
    "!pip install yfinance==0.1.67\n",
    "!mamba install bs4==4.10.0 -y\n",
    "!pip install nbformat==4.2.0\n",
    "!mamba install html5lib==1.1 -y\n",
    "!pip install lxml==4.6.4"
   ]
  },
  {
   "cell_type": "markdown",
   "id": "84faae4a-aa45-42c8-8aab-552ff9c2b264",
   "metadata": {},
   "source": [
    "# Import libraries"
   ]
  },
  {
   "cell_type": "code",
   "execution_count": 7,
   "id": "f34ce454-80df-472b-9e2b-2708682ce993",
   "metadata": {},
   "outputs": [
    {
     "ename": "ModuleNotFoundError",
     "evalue": "No module named 'plotly'",
     "output_type": "error",
     "traceback": [
      "\u001b[1;31m---------------------------------------------------------------------------\u001b[0m",
      "\u001b[1;31mModuleNotFoundError\u001b[0m                       Traceback (most recent call last)",
      "\u001b[1;32m~\\AppData\\Local\\Temp/ipykernel_19428/1012458165.py\u001b[0m in \u001b[0;36m<module>\u001b[1;34m\u001b[0m\n\u001b[0;32m      3\u001b[0m \u001b[1;32mimport\u001b[0m \u001b[0mrequests\u001b[0m\u001b[1;33m\u001b[0m\u001b[1;33m\u001b[0m\u001b[0m\n\u001b[0;32m      4\u001b[0m \u001b[1;32mfrom\u001b[0m \u001b[0mbs4\u001b[0m \u001b[1;32mimport\u001b[0m \u001b[0mBeautifulSoup\u001b[0m\u001b[1;33m\u001b[0m\u001b[1;33m\u001b[0m\u001b[0m\n\u001b[1;32m----> 5\u001b[1;33m \u001b[1;32mimport\u001b[0m \u001b[0mplotly\u001b[0m\u001b[1;33m.\u001b[0m\u001b[0mgraph_objects\u001b[0m \u001b[1;32mas\u001b[0m \u001b[0mgo\u001b[0m\u001b[1;33m\u001b[0m\u001b[1;33m\u001b[0m\u001b[0m\n\u001b[0m\u001b[0;32m      6\u001b[0m \u001b[1;32mfrom\u001b[0m \u001b[0mplotly\u001b[0m\u001b[1;33m.\u001b[0m\u001b[0msubplots\u001b[0m \u001b[1;32mimport\u001b[0m \u001b[0mmake_subplots\u001b[0m\u001b[1;33m\u001b[0m\u001b[1;33m\u001b[0m\u001b[0m\n",
      "\u001b[1;31mModuleNotFoundError\u001b[0m: No module named 'plotly'"
     ]
    }
   ],
   "source": [
    "import yfinance as yf\n",
    "import pandas as pd\n",
    "import requests\n",
    "from bs4 import BeautifulSoup\n",
    "import plotly.graph_objects as go\n",
    "from plotly.subplots import make_subplots"
   ]
  },
  {
   "cell_type": "markdown",
   "id": "e48a0b4f-4f1f-4696-bdcb-72040cb70959",
   "metadata": {},
   "source": [
    "## QUESTION 1 : Use yfinance to Extract Stock Data - TESLA"
   ]
  },
  {
   "cell_type": "markdown",
   "id": "cf034d8a-4477-4b75-bbae-6a4a846a12ea",
   "metadata": {},
   "source": [
    "### Extracting stock DATA"
   ]
  },
  {
   "cell_type": "code",
   "execution_count": 5,
   "id": "f135f39a-5105-4846-b767-d18a39f7a3d4",
   "metadata": {},
   "outputs": [
    {
     "data": {
      "text/html": [
       "<div>\n",
       "<style scoped>\n",
       "    .dataframe tbody tr th:only-of-type {\n",
       "        vertical-align: middle;\n",
       "    }\n",
       "\n",
       "    .dataframe tbody tr th {\n",
       "        vertical-align: top;\n",
       "    }\n",
       "\n",
       "    .dataframe thead th {\n",
       "        text-align: right;\n",
       "    }\n",
       "</style>\n",
       "<table border=\"1\" class=\"dataframe\">\n",
       "  <thead>\n",
       "    <tr style=\"text-align: right;\">\n",
       "      <th></th>\n",
       "      <th>Date</th>\n",
       "      <th>Open</th>\n",
       "      <th>High</th>\n",
       "      <th>Low</th>\n",
       "      <th>Close</th>\n",
       "      <th>Volume</th>\n",
       "      <th>Dividends</th>\n",
       "      <th>Stock Splits</th>\n",
       "    </tr>\n",
       "  </thead>\n",
       "  <tbody>\n",
       "    <tr>\n",
       "      <th>0</th>\n",
       "      <td>2010-06-29</td>\n",
       "      <td>1.266667</td>\n",
       "      <td>1.666667</td>\n",
       "      <td>1.169333</td>\n",
       "      <td>1.592667</td>\n",
       "      <td>281494500</td>\n",
       "      <td>0</td>\n",
       "      <td>0.0</td>\n",
       "    </tr>\n",
       "    <tr>\n",
       "      <th>1</th>\n",
       "      <td>2010-06-30</td>\n",
       "      <td>1.719333</td>\n",
       "      <td>2.028000</td>\n",
       "      <td>1.553333</td>\n",
       "      <td>1.588667</td>\n",
       "      <td>257806500</td>\n",
       "      <td>0</td>\n",
       "      <td>0.0</td>\n",
       "    </tr>\n",
       "    <tr>\n",
       "      <th>2</th>\n",
       "      <td>2010-07-01</td>\n",
       "      <td>1.666667</td>\n",
       "      <td>1.728000</td>\n",
       "      <td>1.351333</td>\n",
       "      <td>1.464000</td>\n",
       "      <td>123282000</td>\n",
       "      <td>0</td>\n",
       "      <td>0.0</td>\n",
       "    </tr>\n",
       "    <tr>\n",
       "      <th>3</th>\n",
       "      <td>2010-07-02</td>\n",
       "      <td>1.533333</td>\n",
       "      <td>1.540000</td>\n",
       "      <td>1.247333</td>\n",
       "      <td>1.280000</td>\n",
       "      <td>77097000</td>\n",
       "      <td>0</td>\n",
       "      <td>0.0</td>\n",
       "    </tr>\n",
       "    <tr>\n",
       "      <th>4</th>\n",
       "      <td>2010-07-06</td>\n",
       "      <td>1.333333</td>\n",
       "      <td>1.333333</td>\n",
       "      <td>1.055333</td>\n",
       "      <td>1.074000</td>\n",
       "      <td>103003500</td>\n",
       "      <td>0</td>\n",
       "      <td>0.0</td>\n",
       "    </tr>\n",
       "  </tbody>\n",
       "</table>\n",
       "</div>"
      ],
      "text/plain": [
       "        Date      Open      High       Low     Close     Volume  Dividends  \\\n",
       "0 2010-06-29  1.266667  1.666667  1.169333  1.592667  281494500          0   \n",
       "1 2010-06-30  1.719333  2.028000  1.553333  1.588667  257806500          0   \n",
       "2 2010-07-01  1.666667  1.728000  1.351333  1.464000  123282000          0   \n",
       "3 2010-07-02  1.533333  1.540000  1.247333  1.280000   77097000          0   \n",
       "4 2010-07-06  1.333333  1.333333  1.055333  1.074000  103003500          0   \n",
       "\n",
       "   Stock Splits  \n",
       "0           0.0  \n",
       "1           0.0  \n",
       "2           0.0  \n",
       "3           0.0  \n",
       "4           0.0  "
      ]
     },
     "execution_count": 5,
     "metadata": {},
     "output_type": "execute_result"
    }
   ],
   "source": [
    "tesla = yf.Ticker(\"TSLA\")    # Extraction stock data of Tesla with TSLA\n",
    "tesla_stock = tesla.history(period=\"max\") # Builb Dataframe\n",
    "tesla_stock.reset_index(inplace=True)          # Reset index\n",
    "tesla_stock.head()                             # Display 5st rows"
   ]
  },
  {
   "cell_type": "markdown",
   "id": "1fee73c7-8473-4011-9e97-28ed60658da1",
   "metadata": {},
   "source": [
    "# QUESTION 2: Use Webscraping to Extract Tesla Revenue Data - TESLA"
   ]
  },
  {
   "cell_type": "markdown",
   "id": "b7a8e551-713a-4d9c-901c-ccda7f7390c8",
   "metadata": {},
   "source": [
    "### Download of the webpage"
   ]
  },
  {
   "cell_type": "code",
   "execution_count": null,
   "id": "f5a5f737-6fc5-4613-b275-b12c25390d1a",
   "metadata": {},
   "outputs": [],
   "source": [
    "url = \"https://www.macrotrends.net/stocks/charts/TSLA/tesla/revenue\"\n",
    "html_data  = requests.get(url).text"
   ]
  },
  {
   "cell_type": "markdown",
   "id": "f92bd76f-6ea2-4625-8e8d-00cc9589b8f4",
   "metadata": {},
   "source": [
    "### Parsing with bs"
   ]
  },
  {
   "cell_type": "code",
   "execution_count": null,
   "id": "672aadc2-011d-478c-b6ad-3dd90439c48b",
   "metadata": {},
   "outputs": [],
   "source": [
    "soup = BeautifulSoup(html_data, 'html5lib')"
   ]
  },
  {
   "cell_type": "markdown",
   "id": "f39865d0-5026-42c7-b138-158eb858f708",
   "metadata": {},
   "source": [
    "### Extract the quaterly table"
   ]
  },
  {
   "cell_type": "code",
   "execution_count": null,
   "id": "3d41cb04-7858-4215-95d2-6bbcbc68a68d",
   "metadata": {},
   "outputs": [],
   "source": [
    "soup_table = soup.find_all(\"table\", class_=\"historical_data_table table\")                # table are define withe that class\n",
    "soup_table_quaterly_1 = soup_table[1]                                                    # Quaterly table is the second one after annualy\n",
    "soup_table_quaterly_2 = soup_table_quaterly_1.find_all(\"td\",style = \"text-align:center\") # Date and revenue are on the same td"
   ]
  },
  {
   "cell_type": "markdown",
   "id": "8846a027-1be4-44ad-b0a6-22f3994ce57a",
   "metadata": {},
   "source": [
    "### Dataframe creation"
   ]
  },
  {
   "cell_type": "code",
   "execution_count": null,
   "id": "8897bf7b-6ec0-4ae1-994c-c27e856b94d6",
   "metadata": {},
   "outputs": [],
   "source": [
    "tesla_data = pd.DataFrame(columns=[\"Date\", \"Revenue\"]) # define df structure\n",
    "\n",
    "i = 0                                                  # Line count\n",
    "tesla_revenue = \"\"                                     # save revenue\n",
    "date = \"\"                                              # save date\n",
    "for rows in soup_table_quaterly_2:                     # loop to read the scrapping data\n",
    "    i+=1                                               # increment line \n",
    "    if i%2 == 0:                                       # revenue is on an even line\n",
    "        tesla_revenue = rows.text                      \n",
    "    else:\n",
    "        date = rows.text                               # date is on an odd line\n",
    "        \n",
    "    if tesla_revenue != \"\" and date != \"\":             # if date and revenue has been found, the dataframe is loaded \n",
    "        tesla_data = tesla_data.append({\"Date\":date, \"Revenue\":tesla_revenue}, ignore_index=True)\n",
    "        tesla_revenue = \"\"                            # init values\n",
    "        date = \"\"\n",
    "        \n",
    "tesla_data[\"Revenue\"] = tesla_data['Revenue'].str.replace(',|\\$',\"\") # delete dollars   \n",
    "tesla_data.tail()                                     # print the 5 last line of the dataframe"
   ]
  },
  {
   "cell_type": "markdown",
   "id": "a0330eab-da13-40b9-b508-67255247886f",
   "metadata": {},
   "source": [
    "# QUESTION 3: Use yfinance to Extract Stock Data - GME"
   ]
  },
  {
   "cell_type": "markdown",
   "id": "87e5b427-f992-490b-8952-e7735bab3d24",
   "metadata": {},
   "source": [
    "### Extracting stock DATA"
   ]
  },
  {
   "cell_type": "code",
   "execution_count": 8,
   "id": "fccf188f-c84b-44f0-bb60-130c974e1bb3",
   "metadata": {},
   "outputs": [
    {
     "data": {
      "text/html": [
       "<div>\n",
       "<style scoped>\n",
       "    .dataframe tbody tr th:only-of-type {\n",
       "        vertical-align: middle;\n",
       "    }\n",
       "\n",
       "    .dataframe tbody tr th {\n",
       "        vertical-align: top;\n",
       "    }\n",
       "\n",
       "    .dataframe thead th {\n",
       "        text-align: right;\n",
       "    }\n",
       "</style>\n",
       "<table border=\"1\" class=\"dataframe\">\n",
       "  <thead>\n",
       "    <tr style=\"text-align: right;\">\n",
       "      <th></th>\n",
       "      <th>Date</th>\n",
       "      <th>Open</th>\n",
       "      <th>High</th>\n",
       "      <th>Low</th>\n",
       "      <th>Close</th>\n",
       "      <th>Volume</th>\n",
       "      <th>Dividends</th>\n",
       "      <th>Stock Splits</th>\n",
       "    </tr>\n",
       "  </thead>\n",
       "  <tbody>\n",
       "    <tr>\n",
       "      <th>0</th>\n",
       "      <td>2002-02-13</td>\n",
       "      <td>1.620129</td>\n",
       "      <td>1.693350</td>\n",
       "      <td>1.603296</td>\n",
       "      <td>1.691667</td>\n",
       "      <td>76216000</td>\n",
       "      <td>0.0</td>\n",
       "      <td>0.0</td>\n",
       "    </tr>\n",
       "    <tr>\n",
       "      <th>1</th>\n",
       "      <td>2002-02-14</td>\n",
       "      <td>1.712707</td>\n",
       "      <td>1.716074</td>\n",
       "      <td>1.670626</td>\n",
       "      <td>1.683250</td>\n",
       "      <td>11021600</td>\n",
       "      <td>0.0</td>\n",
       "      <td>0.0</td>\n",
       "    </tr>\n",
       "    <tr>\n",
       "      <th>2</th>\n",
       "      <td>2002-02-15</td>\n",
       "      <td>1.683250</td>\n",
       "      <td>1.687458</td>\n",
       "      <td>1.658001</td>\n",
       "      <td>1.674834</td>\n",
       "      <td>8389600</td>\n",
       "      <td>0.0</td>\n",
       "      <td>0.0</td>\n",
       "    </tr>\n",
       "    <tr>\n",
       "      <th>3</th>\n",
       "      <td>2002-02-19</td>\n",
       "      <td>1.666418</td>\n",
       "      <td>1.666418</td>\n",
       "      <td>1.578047</td>\n",
       "      <td>1.607504</td>\n",
       "      <td>7410400</td>\n",
       "      <td>0.0</td>\n",
       "      <td>0.0</td>\n",
       "    </tr>\n",
       "    <tr>\n",
       "      <th>4</th>\n",
       "      <td>2002-02-20</td>\n",
       "      <td>1.615921</td>\n",
       "      <td>1.662210</td>\n",
       "      <td>1.603296</td>\n",
       "      <td>1.662210</td>\n",
       "      <td>6892800</td>\n",
       "      <td>0.0</td>\n",
       "      <td>0.0</td>\n",
       "    </tr>\n",
       "  </tbody>\n",
       "</table>\n",
       "</div>"
      ],
      "text/plain": [
       "        Date      Open      High       Low     Close    Volume  Dividends  \\\n",
       "0 2002-02-13  1.620129  1.693350  1.603296  1.691667  76216000        0.0   \n",
       "1 2002-02-14  1.712707  1.716074  1.670626  1.683250  11021600        0.0   \n",
       "2 2002-02-15  1.683250  1.687458  1.658001  1.674834   8389600        0.0   \n",
       "3 2002-02-19  1.666418  1.666418  1.578047  1.607504   7410400        0.0   \n",
       "4 2002-02-20  1.615921  1.662210  1.603296  1.662210   6892800        0.0   \n",
       "\n",
       "   Stock Splits  \n",
       "0           0.0  \n",
       "1           0.0  \n",
       "2           0.0  \n",
       "3           0.0  \n",
       "4           0.0  "
      ]
     },
     "execution_count": 8,
     "metadata": {},
     "output_type": "execute_result"
    }
   ],
   "source": [
    "gme = yf.Ticker(\"GME\")                            # Extraction stock data of gme with GME\n",
    "gme_stock = gme.history(period=\"max\")             # Builb Dataframe\n",
    "gme_stock.reset_index(inplace=True)               # Reset index\n",
    "gme_stock.head()                                  # Display 5st rows"
   ]
  },
  {
   "cell_type": "markdown",
   "id": "807a8049-3c27-4b8a-88e9-dbd0a4503da0",
   "metadata": {},
   "source": [
    "# QUESTION 4: Use Webscraping to Extract GME Revenue Data - GME"
   ]
  },
  {
   "cell_type": "markdown",
   "id": "5a01a29c-f864-4e70-b057-7dcf42bc0d09",
   "metadata": {},
   "source": [
    "### Download of the webpage"
   ]
  },
  {
   "cell_type": "code",
   "execution_count": 10,
   "id": "58fb558a-e067-4daa-bb48-2ba206296c90",
   "metadata": {},
   "outputs": [],
   "source": [
    "url = \"https://cf-courses-data.s3.us.cloud-object-storage.appdomain.cloud/IBMDeveloperSkillsNetwork-PY0220EN-SkillsNetwork/labs/project/stock.html\"\n",
    "html_data  = requests.get(url).text"
   ]
  },
  {
   "cell_type": "markdown",
   "id": "7a9e1233-0ebc-466e-8933-0ee7c62c8e14",
   "metadata": {},
   "source": [
    "### Parsing with bs"
   ]
  },
  {
   "cell_type": "code",
   "execution_count": 11,
   "id": "f4acef8f-71b7-4b5a-953d-1a86e19c91ec",
   "metadata": {},
   "outputs": [],
   "source": [
    "soup = BeautifulSoup(html_data, 'html5lib')"
   ]
  },
  {
   "cell_type": "markdown",
   "id": "39e87253-438e-4311-b0b0-d5b5638ba27e",
   "metadata": {},
   "source": [
    "### Extract the quaterly table"
   ]
  },
  {
   "cell_type": "code",
   "execution_count": null,
   "id": "44138a21-2718-4366-b4c7-36ddc28e477e",
   "metadata": {},
   "outputs": [],
   "source": [
    "soup_table = soup.find_all(\"table\", class_=\"historical_data_table table\")                # table are define withe that class\n",
    "soup_table_quaterly_1 = soup_table[1]                                                    # Quaterly table is the second one after annualy\n",
    "soup_table_quaterly_2 = soup_table_quaterly_1.find_all(\"td\",style = \"text-align:center\") # Date and revenue are on the same td"
   ]
  },
  {
   "cell_type": "markdown",
   "id": "cce6a92e-6fde-48c9-bc00-35c56f045fe8",
   "metadata": {},
   "source": [
    "### Dataframe creation"
   ]
  },
  {
   "cell_type": "code",
   "execution_count": null,
   "id": "51c4bc3a-e57a-4eb1-96f4-9ef4112d1678",
   "metadata": {},
   "outputs": [],
   "source": [
    "gme_data = pd.DataFrame(columns=[\"Date\", \"Revenue\"])   # define df structure\n",
    "\n",
    "i = 0                                                  # Line count\n",
    "gme_revenue = \"\"                                       # save revenue\n",
    "date = \"\"                                              # save date\n",
    "for rows in soup_table_quaterly_2:                     # loop to read the scrapping data\n",
    "    i+=1                                               # increment line \n",
    "    if i%2 == 0:                                       # revenue is on an even line\n",
    "        gme_revenue = rows.text                      \n",
    "    else:\n",
    "        date = rows.text                               # date is on an odd line\n",
    "        \n",
    "    if gme_revenue != \"\" and date != \"\":             # if date and revenue has been found, the dataframe is loaded \n",
    "        gme_data = gme_data.append({\"Date\":date, \"Revenue\":gme_revenue}, ignore_index=True)\n",
    "        gme_revenue = \"\"                            # init values\n",
    "        date = \"\"\n",
    "gme_data[\"Revenue\"] = gme_data['Revenue'].str.replace(',|\\$',\"\") # delete dollars       \n",
    "gme_data.tail()                                     # print the 5 last line of the dataframe"
   ]
  },
  {
   "cell_type": "markdown",
   "id": "758c4ddc-ec19-4319-91b9-5758a8f3bef5",
   "metadata": {},
   "source": [
    "# QUESTION 5: Use Webscraping to Extract GME Revenue Data - GME"
   ]
  },
  {
   "cell_type": "markdown",
   "id": "8a71eca5-ffd9-49c2-ba37-ec6a44908dc4",
   "metadata": {},
   "source": [
    "### Define graph function"
   ]
  },
  {
   "cell_type": "code",
   "execution_count": null,
   "id": "76cc729f-5075-4d41-8cb4-ba1fa5f47f6d",
   "metadata": {},
   "outputs": [],
   "source": [
    "def make_graph(stock_data, revenue_data, stock):\n",
    "    fig = make_subplots(rows=2, cols=1, shared_xaxes=True, subplot_titles=(\"Historical Share Price\", \"Historical Revenue\"), vertical_spacing = .3)\n",
    "    stock_data_specific = stock_data[stock_data.Date <= '2021--06-14']\n",
    "    revenue_data_specific = revenue_data[revenue_data.Date <= '2021-04-30']\n",
    "    fig.add_trace(go.Scatter(x=pd.to_datetime(stock_data_specific.Date, infer_datetime_format=True), y=stock_data_specific.Close.astype(\"float\"), name=\"Share Price\"), row=1, col=1)\n",
    "    fig.add_trace(go.Scatter(x=pd.to_datetime(revenue_data_specific.Date, infer_datetime_format=True), y=revenue_data_specific.Revenue.astype(\"float\"), name=\"Revenue\"), row=2, col=1)\n",
    "    fig.update_xaxes(title_text=\"Date\", row=1, col=1)\n",
    "    fig.update_xaxes(title_text=\"Date\", row=2, col=1)\n",
    "    fig.update_yaxes(title_text=\"Price ($US)\", row=1, col=1)\n",
    "    fig.update_yaxes(title_text=\"Revenue ($US Millions)\", row=2, col=1)\n",
    "    fig.update_layout(showlegend=False,\n",
    "    height=900,\n",
    "    title=stock,\n",
    "    xaxis_rangeslider_visible=True)\n",
    "    fig.show()"
   ]
  },
  {
   "cell_type": "markdown",
   "id": "0476a97c-88f2-425f-add8-e5b8e505f44f",
   "metadata": {},
   "source": [
    "### plotting tesla"
   ]
  },
  {
   "cell_type": "code",
   "execution_count": null,
   "id": "e293a448-e097-4ba9-a830-3765c7f7396d",
   "metadata": {},
   "outputs": [],
   "source": [
    "make_graph(tesla_stock, tesla_data, 'Tesla')"
   ]
  },
  {
   "cell_type": "markdown",
   "id": "d2d4ba40-0eba-4395-9de8-9907740aa8cf",
   "metadata": {},
   "source": [
    "# QUESTION 5: Use Webscraping to Extract GME Revenue Data - GME"
   ]
  },
  {
   "cell_type": "markdown",
   "id": "ae1519b0-6fe0-49a9-90b3-d0f69fbe8f28",
   "metadata": {},
   "source": [
    "### plotting gme"
   ]
  },
  {
   "cell_type": "code",
   "execution_count": null,
   "id": "25fe9a62-ab88-47a6-a379-4ff0d55df6d0",
   "metadata": {},
   "outputs": [],
   "source": [
    "make_graph(gme_stock, gme_data, 'GME')"
   ]
  }
 ],
 "metadata": {
  "kernelspec": {
   "display_name": "Python 3 (ipykernel)",
   "language": "python",
   "name": "python3"
  },
  "language_info": {
   "codemirror_mode": {
    "name": "ipython",
    "version": 3
   },
   "file_extension": ".py",
   "mimetype": "text/x-python",
   "name": "python",
   "nbconvert_exporter": "python",
   "pygments_lexer": "ipython3",
   "version": "3.9.7"
  }
 },
 "nbformat": 4,
 "nbformat_minor": 5
}
